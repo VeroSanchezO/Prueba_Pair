{
 "cells": [
  {
   "cell_type": "code",
   "execution_count": 2,
   "metadata": {},
   "outputs": [
    {
     "name": "stdout",
     "output_type": "stream",
     "text": [
      "[2, 4, 6, 8, 2, 4, 6, 8]\n"
     ]
    }
   ],
   "source": [
    "\n",
    "# Ejercicio: Duplicar elementos de una lista\n",
    " #  - Descripción: Dada una lista de números, duplica cada elemento en la lista.\n",
    "\n",
    "lista =[2, 4, 6, 8]\n",
    "lista.extend([2, 4, 6, 8])\n",
    "print(lista)"
   ]
  },
  {
   "cell_type": "code",
   "execution_count": 3,
   "metadata": {},
   "outputs": [
    {
     "name": "stdout",
     "output_type": "stream",
     "text": [
      "[1, 2, 3, 4, 5, 6]\n"
     ]
    }
   ],
   "source": [
    "# ·2. Ejercicio: Combinar dos listas\n",
    "#   - Descripción: Dadas dos listas, crea una nueva lista que contenga todos los elementos de ambas listas.\n",
    "\n",
    "\n",
    "lista1= [1, 2, 3]\n",
    "lista2= [4, 5, 6]\n",
    "listas_combinadas= lista1 + lista2\n",
    "print(listas_combinadas)"
   ]
  },
  {
   "cell_type": "code",
   "execution_count": 4,
   "metadata": {},
   "outputs": [
    {
     "name": "stdout",
     "output_type": "stream",
     "text": [
      "40\n"
     ]
    }
   ],
   "source": [
    "# 3. Ejercicio: Calcular la suma de una lista de números\n",
    "#      - Descripción: Dada una lista de números, calcula la suma de todos los elementos\n",
    "\n",
    "lista3= [2, 5, 7, 8, 9]\n",
    "suma = sum(lista)\n",
    "print(suma)\n"
   ]
  },
  {
   "cell_type": "code",
   "execution_count": 11,
   "metadata": {},
   "outputs": [
    {
     "name": "stdout",
     "output_type": "stream",
     "text": [
      "9\n"
     ]
    }
   ],
   "source": [
    "#4. Ejercicio: Encontrar el valor máximo en una lista\n",
    "#   - Descripción: Dada una lista de números, encuentra el valor máximo.\n",
    "\n",
    "maxima =  max(lista3)\n",
    "print(maxima)\n",
    " \n",
    "   - Descripción: Dada una lista, calcula la cantidad de elementos que contiene."
   ]
  },
  {
   "cell_type": "code",
   "execution_count": 12,
   "metadata": {},
   "outputs": [
    {
     "name": "stdout",
     "output_type": "stream",
     "text": [
      "5\n"
     ]
    }
   ],
   "source": [
    "#5. Ejercicio: Calcular la longitud de una list\n",
    "# - Descripción: Dada una lista, calcula la cantidad de elementos que contiene.\n",
    "\n",
    "lista = [1, 2, 3, 4, 5]\n",
    "longitud = len(lista)\n",
    "print(longitud)"
   ]
  },
  {
   "cell_type": "code",
   "execution_count": 15,
   "metadata": {},
   "outputs": [
    {
     "name": "stdout",
     "output_type": "stream",
     "text": [
      "1\n"
     ]
    }
   ],
   "source": [
    "ciudades =[\"madrid\", \"barcelona\", \"sevilla\", \"valencia\"]\n",
    "valor_objetivo = \"barcelona\"\n",
    "indice = ciudades.index(valor_objetivo)\n",
    "print(indice)\n"
   ]
  },
  {
   "cell_type": "code",
   "execution_count": 16,
   "metadata": {},
   "outputs": [
    {
     "data": {
      "text/plain": [
       "1"
      ]
     },
     "execution_count": 16,
     "metadata": {},
     "output_type": "execute_result"
    }
   ],
   "source": [
    "ciudades.count(valor_objetivo)"
   ]
  },
  {
   "cell_type": "code",
   "execution_count": 17,
   "metadata": {},
   "outputs": [
    {
     "name": "stdout",
     "output_type": "stream",
     "text": [
      "[1, 2, 3, 4, 5, 6]\n"
     ]
    }
   ],
   "source": [
    "print(listas_combinadas)"
   ]
  },
  {
   "cell_type": "code",
   "execution_count": 20,
   "metadata": {},
   "outputs": [
    {
     "name": "stdout",
     "output_type": "stream",
     "text": [
      "[3, 4, 5]\n"
     ]
    }
   ],
   "source": [
    "print(listas_combinadas[2:5])\n"
   ]
  },
  {
   "cell_type": "code",
   "execution_count": 5,
   "metadata": {},
   "outputs": [
    {
     "name": "stdout",
     "output_type": "stream",
     "text": [
      "2\n"
     ]
    }
   ],
   "source": [
    "# 6. Ejercicio: Encontrar el índice de un elemento en una lista\n",
    "# - Descripción: Dada una lista y un valor objetivo, encuentra el índice del primer elemento que coincida con el valor objetivo. Pendiente#  istas_combinadas:[-1]\n",
    "\n",
    "lista = [10, 20, 30, 40, 50]\n",
    "objetivo = 30\n",
    "indice = lista.index(objetivo)\n",
    "print(indice)"
   ]
  },
  {
   "cell_type": "code",
   "execution_count": 6,
   "metadata": {},
   "outputs": [
    {
     "name": "stdout",
     "output_type": "stream",
     "text": [
      "4\n"
     ]
    }
   ],
   "source": [
    "#7. Ejercicio: Contar ocurrencias de un elemento en una lista\n",
    "#   - Descripción: Dada una lista y un valor objetivo, cuenta cuántas veces aparece el valor objetivo en la lista.\n",
    "lista = [1, 2, 2, 3, 2, 4, 2]\n",
    "objetivo = 2\n",
    "contador = lista.count(objetivo)\n",
    "print(contador)"
   ]
  },
  {
   "cell_type": "code",
   "execution_count": 7,
   "metadata": {},
   "outputs": [
    {
     "name": "stdout",
     "output_type": "stream",
     "text": [
      "[3, 4, 5]\n"
     ]
    }
   ],
   "source": [
    "#8. Ejercicio: Obtener una sublista de una lista\n",
    "   #  - Descripción: Dada una lista, crea una nueva lista que contenga los elementos desde el índice 2 hasta el índice 5 (sin incluirlo).\n",
    "lista = [1, 2, 3, 4, 5, 6, 7, 8, 9]\n",
    "sublista = lista[2:5]\n",
    "print(sublista)"
   ]
  },
  {
   "cell_type": "code",
   "execution_count": 8,
   "metadata": {},
   "outputs": [
    {
     "name": "stdout",
     "output_type": "stream",
     "text": [
      "1\n"
     ]
    }
   ],
   "source": [
    "#9. Ejercicio: Obtener el primer elemento de una list\n",
    "#   - Descripción: Dada una lista, obtén el primer elemento.\n",
    "\n",
    "lista = [1, 2, 3, 4, 5]\n",
    "primer_elemento = lista[0]\n",
    "print(primer_elemento)"
   ]
  },
  {
   "cell_type": "code",
   "execution_count": null,
   "metadata": {},
   "outputs": [],
   "source": [
    "# 10. Ejercicio: Obtener el último elemento de una lista\n",
    "#   - Descripción: Dada una lista, obtén el último elemento"
   ]
  },
  {
   "cell_type": "code",
   "execution_count": 11,
   "metadata": {},
   "outputs": [
    {
     "name": "stdout",
     "output_type": "stream",
     "text": [
      "5\n"
     ]
    }
   ],
   "source": [
    "lista = [1, 2, 3, 4, 5]\n",
    "ultimo_elemento = lista[-1]\n",
    "print(ultimo_elemento)\n"
   ]
  },
  {
   "cell_type": "code",
   "execution_count": 12,
   "metadata": {},
   "outputs": [
    {
     "name": "stdout",
     "output_type": "stream",
     "text": [
      "[2, 3]\n"
     ]
    }
   ],
   "source": [
    "\n",
    "# 11. Ejercicio: Obtener una sublista de una lista\n",
    "#   - Descripción: Dada una lista, obtén una sublista que contenga los elementos desde el índice 1 hasta el índice 3 (sin incluirlo).\n",
    "\n",
    "lista = [1, 2, 3, 4, 5]\n",
    "sublista = lista[1:3]\n",
    "print(sublista)"
   ]
  },
  {
   "cell_type": "code",
   "execution_count": 13,
   "metadata": {},
   "outputs": [
    {
     "name": "stdout",
     "output_type": "stream",
     "text": [
      "[1, 10, 3, 4, 5]\n"
     ]
    }
   ],
   "source": [
    "\n",
    "# 12. Ejercicio: Reemplazar un elemento en una lista\n",
    "#   - Descripción: Dada una lista, reemplaza el segundo elemento con un nuevo valor.\n",
    "lista = [1, 2, 3, 4, 5]\n",
    "nuevo_valor = 10\n",
    "lista[1] = nuevo_valor\n",
    "print(lista)\n"
   ]
  },
  {
   "cell_type": "code",
   "execution_count": null,
   "metadata": {},
   "outputs": [],
   "source": [
    "13.# Ejercicio: Obtener una lista inversa\n",
    " #   - Descripción: Dada una lista, obtén una nueva lista que contenga los elementos en orden inverso.\n",
    " "
   ]
  },
  {
   "cell_type": "code",
   "execution_count": 14,
   "metadata": {},
   "outputs": [
    {
     "name": "stdout",
     "output_type": "stream",
     "text": [
      "[5, 4, 3, 2, 1]\n"
     ]
    }
   ],
   "source": [
    "lista = [1, 2, 3, 4, 5]\n",
    "lista_inversa = lista[::-1]\n",
    "print(lista_inversa)"
   ]
  },
  {
   "cell_type": "code",
   "execution_count": 15,
   "metadata": {},
   "outputs": [
    {
     "name": "stdout",
     "output_type": "stream",
     "text": [
      "[1, 2, 5, 7, 9]\n"
     ]
    }
   ],
   "source": [
    "\n",
    "# 14. Ejercicio: Ordenar una lista en orden ascendente\n",
    "#    - Descripción: Dada una lista de números, ordénala en orden ascendente.\n",
    "\n",
    "lista = [5, 2, 9, 1, 7]\n",
    "lista_ordenada = sorted(lista)\n",
    "print(lista_ordenada)"
   ]
  },
  {
   "cell_type": "code",
   "execution_count": 17,
   "metadata": {},
   "outputs": [
    {
     "name": "stdout",
     "output_type": "stream",
     "text": [
      "[2, 4, 6, 8, 10]\n"
     ]
    }
   ],
   "source": [
    "\n",
    "# 15. Ejercicio: Obtener elementos pares de una lista\n",
    "#    - Descripción: Dada una lista, obtén una nueva lista que contenga solo los elementos en posiciones pares.\n",
    "lista = [1, 2, 3, 4, 5, 6, 7, 8, 9, 10]\n",
    "elementos_pares = lista[1::2]\n",
    "print(elementos_pares)"
   ]
  },
  {
   "cell_type": "code",
   "execution_count": null,
   "metadata": {},
   "outputs": [],
   "source": [
    "\n",
    "# 16. Ejercicio: Obtener una sublista saltando elementos\n",
    "#   - Descripción: Dada una lista, obtén una sublista que contenga los elementos saltando de 3 en 3"
   ]
  },
  {
   "cell_type": "code",
   "execution_count": 18,
   "metadata": {},
   "outputs": [
    {
     "name": "stdout",
     "output_type": "stream",
     "text": [
      "[1, 4, 7, 10]\n"
     ]
    }
   ],
   "source": [
    "lista = [1, 2, 3, 4, 5, 6, 7, 8, 9, 10]\n",
    "sublista_saltando = lista[::3]\n",
    "print(sublista_saltando)"
   ]
  },
  {
   "cell_type": "code",
   "execution_count": 19,
   "metadata": {},
   "outputs": [
    {
     "name": "stdout",
     "output_type": "stream",
     "text": [
      "7\n"
     ]
    }
   ],
   "source": [
    "# 17. Ejercicio: Encontrar el segundo valor máximo en una lista\n",
    " #    - Descripción: Dada una lista de números, encuentra el segundo valor máximo.\n",
    "\n",
    "lista = [7, 2, 9, 1, 5]\n",
    "maximo = max(lista)\n",
    "lista.remove(maximo)\n",
    "segundo_maximo = max(lista)\n",
    "print(segundo_maximo)"
   ]
  },
  {
   "cell_type": "markdown",
   "metadata": {},
   "source": [
    "18. Teórico. Debereis contestar la pregunta en una celda de *markdown*.\n",
    "    - Descripción: ¿Qué diferencia existe entre el `.sort()` y el `sorted()`\n",
    "\n",
    "El sorted modifica la lista original mientras que el sort no. "
   ]
  },
  {
   "cell_type": "code",
   "execution_count": null,
   "metadata": {},
   "outputs": [],
   "source": [
    "19. Ejercicio: Agregar elementos a una lista utilizando `append` y `extend`\n",
    "    - Descripción: Dada una lista inicial, agrega nuevos elementos utilizando tanto `append` como `extend` y observa las diferencias en el resultado final. El elemento que deberéis usar para añadir a la lista original tiene que ser una lista."
   ]
  },
  {
   "cell_type": "code",
   "execution_count": 20,
   "metadata": {},
   "outputs": [
    {
     "name": "stdout",
     "output_type": "stream",
     "text": [
      "Lista después de append: [1, 2, 3, [5, 6, 7]]\n",
      "Lista después de extend: [1, 2, 3, [5, 6, 7], 5, 6, 7]\n"
     ]
    }
   ],
   "source": [
    "lista = [1, 2, 3]\n",
    "nuevos_elementos = [5, 6, 7]\n",
    "# Agregar un solo elemento utilizando append\n",
    "lista.append(nuevos_elementos)\n",
    "print(\"Lista después de append:\", lista)\n",
    "\n",
    "# Agregar múltiples elementos utilizando extend\n",
    "\n",
    "lista.extend(nuevos_elementos)\n",
    "print(\"Lista después de extend:\", lista)"
   ]
  },
  {
   "cell_type": "markdown",
   "metadata": {},
   "source": [
    "La diferencia principal entre append y extend radica en cómo manejan la adición de elementos. append agrega un solo elemento al final de la lista, mientras que extend permite agregar múltiples elementos de una lista iterable al final de la lista existente."
   ]
  },
  {
   "cell_type": "code",
   "execution_count": 21,
   "metadata": {},
   "outputs": [
    {
     "ename": "KeyboardInterrupt",
     "evalue": "Interrupted by user",
     "output_type": "error",
     "traceback": [
      "\u001b[1;31m---------------------------------------------------------------------------\u001b[0m",
      "\u001b[1;31mKeyboardInterrupt\u001b[0m                         Traceback (most recent call last)",
      "Cell \u001b[1;32mIn[21], line 5\u001b[0m\n\u001b[0;32m      3\u001b[0m lista \u001b[38;5;241m=\u001b[39m [\u001b[38;5;241m1\u001b[39m, \u001b[38;5;241m2\u001b[39m, \u001b[38;5;241m3\u001b[39m, \u001b[38;5;241m5\u001b[39m, \u001b[38;5;241m6\u001b[39m]\n\u001b[0;32m      4\u001b[0m elemento \u001b[38;5;241m=\u001b[39m \u001b[38;5;241m4\u001b[39m\n\u001b[1;32m----> 5\u001b[0m posicion \u001b[38;5;241m=\u001b[39m \u001b[38;5;28mint\u001b[39m(\u001b[38;5;28;43minput\u001b[39;49m\u001b[43m(\u001b[49m\u001b[38;5;124;43m\"\u001b[39;49m\u001b[38;5;124;43mIngrese la posición de inserción: \u001b[39;49m\u001b[38;5;124;43m\"\u001b[39;49m\u001b[43m)\u001b[49m)\n\u001b[0;32m      7\u001b[0m lista\u001b[38;5;241m.\u001b[39minsert(posicion, elemento)\n\u001b[0;32m      8\u001b[0m \u001b[38;5;28mprint\u001b[39m(lista)\n",
      "File \u001b[1;32m~\\AppData\\Local\\Packages\\PythonSoftwareFoundation.Python.3.11_qbz5n2kfra8p0\\LocalCache\\local-packages\\Python311\\site-packages\\ipykernel\\kernelbase.py:1282\u001b[0m, in \u001b[0;36mKernel.raw_input\u001b[1;34m(self, prompt)\u001b[0m\n\u001b[0;32m   1280\u001b[0m     msg \u001b[38;5;241m=\u001b[39m \u001b[38;5;124m\"\u001b[39m\u001b[38;5;124mraw_input was called, but this frontend does not support input requests.\u001b[39m\u001b[38;5;124m\"\u001b[39m\n\u001b[0;32m   1281\u001b[0m     \u001b[38;5;28;01mraise\u001b[39;00m StdinNotImplementedError(msg)\n\u001b[1;32m-> 1282\u001b[0m \u001b[38;5;28;01mreturn\u001b[39;00m \u001b[38;5;28;43mself\u001b[39;49m\u001b[38;5;241;43m.\u001b[39;49m\u001b[43m_input_request\u001b[49m\u001b[43m(\u001b[49m\n\u001b[0;32m   1283\u001b[0m \u001b[43m    \u001b[49m\u001b[38;5;28;43mstr\u001b[39;49m\u001b[43m(\u001b[49m\u001b[43mprompt\u001b[49m\u001b[43m)\u001b[49m\u001b[43m,\u001b[49m\n\u001b[0;32m   1284\u001b[0m \u001b[43m    \u001b[49m\u001b[38;5;28;43mself\u001b[39;49m\u001b[38;5;241;43m.\u001b[39;49m\u001b[43m_parent_ident\u001b[49m\u001b[43m[\u001b[49m\u001b[38;5;124;43m\"\u001b[39;49m\u001b[38;5;124;43mshell\u001b[39;49m\u001b[38;5;124;43m\"\u001b[39;49m\u001b[43m]\u001b[49m\u001b[43m,\u001b[49m\n\u001b[0;32m   1285\u001b[0m \u001b[43m    \u001b[49m\u001b[38;5;28;43mself\u001b[39;49m\u001b[38;5;241;43m.\u001b[39;49m\u001b[43mget_parent\u001b[49m\u001b[43m(\u001b[49m\u001b[38;5;124;43m\"\u001b[39;49m\u001b[38;5;124;43mshell\u001b[39;49m\u001b[38;5;124;43m\"\u001b[39;49m\u001b[43m)\u001b[49m\u001b[43m,\u001b[49m\n\u001b[0;32m   1286\u001b[0m \u001b[43m    \u001b[49m\u001b[43mpassword\u001b[49m\u001b[38;5;241;43m=\u001b[39;49m\u001b[38;5;28;43;01mFalse\u001b[39;49;00m\u001b[43m,\u001b[49m\n\u001b[0;32m   1287\u001b[0m \u001b[43m\u001b[49m\u001b[43m)\u001b[49m\n",
      "File \u001b[1;32m~\\AppData\\Local\\Packages\\PythonSoftwareFoundation.Python.3.11_qbz5n2kfra8p0\\LocalCache\\local-packages\\Python311\\site-packages\\ipykernel\\kernelbase.py:1325\u001b[0m, in \u001b[0;36mKernel._input_request\u001b[1;34m(self, prompt, ident, parent, password)\u001b[0m\n\u001b[0;32m   1322\u001b[0m \u001b[38;5;28;01mexcept\u001b[39;00m \u001b[38;5;167;01mKeyboardInterrupt\u001b[39;00m:\n\u001b[0;32m   1323\u001b[0m     \u001b[38;5;66;03m# re-raise KeyboardInterrupt, to truncate traceback\u001b[39;00m\n\u001b[0;32m   1324\u001b[0m     msg \u001b[38;5;241m=\u001b[39m \u001b[38;5;124m\"\u001b[39m\u001b[38;5;124mInterrupted by user\u001b[39m\u001b[38;5;124m\"\u001b[39m\n\u001b[1;32m-> 1325\u001b[0m     \u001b[38;5;28;01mraise\u001b[39;00m \u001b[38;5;167;01mKeyboardInterrupt\u001b[39;00m(msg) \u001b[38;5;28;01mfrom\u001b[39;00m \u001b[38;5;28;01mNone\u001b[39;00m\n\u001b[0;32m   1326\u001b[0m \u001b[38;5;28;01mexcept\u001b[39;00m \u001b[38;5;167;01mException\u001b[39;00m:\n\u001b[0;32m   1327\u001b[0m     \u001b[38;5;28mself\u001b[39m\u001b[38;5;241m.\u001b[39mlog\u001b[38;5;241m.\u001b[39mwarning(\u001b[38;5;124m\"\u001b[39m\u001b[38;5;124mInvalid Message:\u001b[39m\u001b[38;5;124m\"\u001b[39m, exc_info\u001b[38;5;241m=\u001b[39m\u001b[38;5;28;01mTrue\u001b[39;00m)\n",
      "\u001b[1;31mKeyboardInterrupt\u001b[0m: Interrupted by user"
     ]
    }
   ],
   "source": [
    "# 20. Ejercicio: Insertar un elemento en una posición específica\n",
    "#    - Descripción: Dada una lista, inserta un nuevo elemento en una posición específica determinada por el usuario (debereis usar la función *input* para preguntar al usuario).\n",
    "lista = [1, 2, 3, 5, 6]\n",
    "elemento = 4\n",
    "posicion = int(input(\"Ingrese la posición de inserción: \"))\n",
    "\n",
    "lista.insert(posicion, elemento)\n",
    "print(lista)\n",
    "    "
   ]
  },
  {
   "cell_type": "code",
   "execution_count": 23,
   "metadata": {},
   "outputs": [
    {
     "name": "stdout",
     "output_type": "stream",
     "text": [
      "True\n"
     ]
    }
   ],
   "source": [
    "21. # Ejercicio: Verificar si un elemento está presente en una lista\n",
    "#    - Descripción: Dada una lista, verifica si un elemento específico está presente en ella. Igual que el caso anterior, debereis preguntar al usuario que elemento quiere buscar en la lista.\n",
    "lista = [1, 2, 3, 4, 5]\n",
    "elemento = int(input(\"Que elemento quieres buscar\"))\n",
    "\n",
    "resultado = elemento in lista\n",
    "print(resultado)"
   ]
  },
  {
   "cell_type": "code",
   "execution_count": null,
   "metadata": {},
   "outputs": [],
   "source": [
    "# 22. Ejercicio: Manipulación de una lista utilizando `remove()`, `pop()` y `clear()`\n",
    " #    - Descripción: Crea una lista inicial, realiza operaciones de eliminación y limpieza utilizando los métodos `remove()`, `pop()` y `clear()`, y observa cómo afectan a la lista."
   ]
  },
  {
   "cell_type": "code",
   "execution_count": 22,
   "metadata": {},
   "outputs": [
    {
     "name": "stdout",
     "output_type": "stream",
     "text": [
      "Lista después de remove(3): [1, 2, 4, 5]\n",
      "Elemento eliminado por pop(): 5\n",
      "Lista después de pop(): [1, 2, 4]\n",
      "Lista después de clear(): []\n"
     ]
    }
   ],
   "source": [
    "lista = [1, 2, 3, 4, 5]\n",
    "\n",
    "# Eliminar un elemento específico utilizando remove()\n",
    "lista.remove(3)\n",
    "print(\"Lista después de remove(3):\", lista)\n",
    "\n",
    "# Eliminar el último elemento utilizando pop()\n",
    "elemento = lista.pop()\n",
    "print(\"Elemento eliminado por pop():\", elemento)\n",
    "print(\"Lista después de pop():\", lista)\n",
    "\n",
    "# Limpiar la lista utilizando clear()\n",
    "lista.clear()\n",
    "print(\"Lista después de clear():\", lista)"
   ]
  }
 ],
 "metadata": {
  "kernelspec": {
   "display_name": "Python 3",
   "language": "python",
   "name": "python3"
  },
  "language_info": {
   "codemirror_mode": {
    "name": "ipython",
    "version": 3
   },
   "file_extension": ".py",
   "mimetype": "text/x-python",
   "name": "python",
   "nbconvert_exporter": "python",
   "pygments_lexer": "ipython3",
   "version": "3.11.9"
  }
 },
 "nbformat": 4,
 "nbformat_minor": 2
}
