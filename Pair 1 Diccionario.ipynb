{
 "cells": [
  {
   "cell_type": "code",
   "execution_count": null,
   "metadata": {},
   "outputs": [],
   "source": []
  },
  {
   "cell_type": "code",
   "execution_count": null,
   "metadata": {},
   "outputs": [],
   "source": [
    "class Empleados:\n",
    "    def __init__(self, nombre, apellidos, edad, posicion, año_ingreso, resto_vacaciones, herramientas):\n",
    "        self.nombre = nombre\n",
    "        self.apellidos = apellidos\n",
    "        self.edad = edad\n",
    "        self.posicion = posicion\n",
    "        self.año_ingreso = año_ingreso\n",
    "        self.resto_vacaciones = resto_vacaciones\n",
    "        self.herramientas = herramientas\n",
    "    def descripcion(self):\n",
    "        return f\"El empleado que se llama {self.nombre} que trabaja como {self.posicion} desde el año {self.año}, le quedan {self.resto_vacaciones} dias de vacaciones y utiliza {self.herramientas}.\"\n",
    "    def cambiando_posicion(self):\n",
    "        if self.herramientas == \"python\" :\n",
    "            print(\"Excelente\")\n",
    "        elif self.herramientas == \"excel\" :\n",
    "            print(\"Deberias dejar Excel y aprender Python :gafas_de_sol:\")\n",
    "            def calcular_antiguedad(self):\n",
    "        # Obtener el año actual\n",
    "        año_actual = datetime.now().year\n",
    "        # Calcular la antiguedad en años\n",
    "        años_antiguedad = año_actual - self.año_ingreso\n",
    "        return f\"{self.nombre} lleva {años_antiguedad} años en la empresa.\"\n",
    "    def solicitar_aumento_vacaciones(self, dias_solicitado):\n",
    "        suma_vaciones = dias_solicitado + self.resto_vacaciones\n",
    "        if dias_solicitado > 0 :\n",
    "            print(f\"{self.nombre} la solicitud ha sido aprobada, tienes {suma_vaciones} dias de vacaciones\")\n",
    "        elif dias_solicitado <= 0 :\n",
    "            print(\"Error el numero de dias debe ser positivo\")\n",
    "    def registrar_herramienta(self, nueva_herramienta):\n",
    "        lista_herramientas = [\"excel\", \"python\"]\n",
    "        if nueva_herramienta in lista_herramientas:\n",
    "            return f\"La herramienta:{nueva_herramienta} ya ha sido registrada previamente\"\n",
    "        elif nueva_herramienta is not lista_herramientas.append(nueva_herramienta):\n",
    "            lista_herramientas.append(nueva_herramienta)\n",
    "            print(f\"La nueva herramienta: {nueva_herramienta} ya esta registrada\")\n",
    "\n",
    "\n",
    "\n",
    "\n",
    "\n",
    "\n"
   ]
  },
  {
   "cell_type": "code",
   "execution_count": null,
   "metadata": {},
   "outputs": [],
   "source": []
  },
  {
   "cell_type": "code",
   "execution_count": null,
   "metadata": {},
   "outputs": [],
   "source": []
  },
  {
   "cell_type": "code",
   "execution_count": null,
   "metadata": {},
   "outputs": [],
   "source": []
  },
  {
   "cell_type": "code",
   "execution_count": null,
   "metadata": {},
   "outputs": [],
   "source": []
  },
  {
   "cell_type": "code",
   "execution_count": null,
   "metadata": {},
   "outputs": [],
   "source": []
  },
  {
   "cell_type": "code",
   "execution_count": null,
   "metadata": {},
   "outputs": [],
   "source": []
  },
  {
   "cell_type": "code",
   "execution_count": null,
   "metadata": {},
   "outputs": [],
   "source": []
  },
  {
   "cell_type": "code",
   "execution_count": null,
   "metadata": {},
   "outputs": [],
   "source": []
  },
  {
   "cell_type": "markdown",
   "metadata": {},
   "source": [
    "b"
   ]
  }
 ],
 "metadata": {
  "kernelspec": {
   "display_name": "Python 3",
   "language": "python",
   "name": "python3"
  },
  "language_info": {
   "name": "python",
   "version": "3.11.9"
  }
 },
 "nbformat": 4,
 "nbformat_minor": 2
}
