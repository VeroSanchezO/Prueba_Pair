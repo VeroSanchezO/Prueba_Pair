{
 "cells": [
  {
   "cell_type": "markdown",
   "metadata": {},
   "source": [
    "# 1 Verificar si un número es positivo, negativo o cero. \n",
    "# Descripción: Dado un número, verifica si es positivo, negativo o cero.\n",
    "\n",
    "numero = 10\n",
    "if numero > 0:\n",
    "    print(\"el numero es positivo\")\n",
    "elif numero <0:\n",
    "    print (\"el numero es negativo\")\n",
    "else: \n",
    "    print (\"el numero es 0\")\n",
    "    \n"
   ]
  },
  {
   "cell_type": "code",
   "execution_count": 8,
   "metadata": {},
   "outputs": [
    {
     "name": "stdout",
     "output_type": "stream",
     "text": [
      "el numero es par\n"
     ]
    }
   ],
   "source": [
    "# 2 Verificar si un número es par o impar\n",
    "# Descripción: Dado un número, verifica si es par o impar.\n",
    "\n",
    "numero = 10 \n",
    "\n",
    "if numero % 2 == 0:\n",
    "    print (\"el numero es par\")\n",
    "else:\n",
    "    print(\"el numero es impar\")"
   ]
  },
  {
   "cell_type": "code",
   "execution_count": 10,
   "metadata": {},
   "outputs": [
    {
     "name": "stdout",
     "output_type": "stream",
     "text": [
      "Suspendido\n"
     ]
    }
   ],
   "source": [
    "# 3 Verificar si un estudiante aprobó o suspendió un examen\n",
    "# Descripción: Dada la calificación de un estudiante en un examen, verifica si aprobó o suspendió (si la calificación es mayor o igual a 60 se considera aprobado).\n",
    "\n",
    "calificacion = 50\n",
    "\n",
    "if calificacion >= 60: \n",
    "    print (\"Aprobado\")\n",
    "else:\n",
    "    print (\"Suspendido\")"
   ]
  },
  {
   "cell_type": "code",
   "execution_count": 17,
   "metadata": {},
   "outputs": [
    {
     "name": "stdout",
     "output_type": "stream",
     "text": [
      "el numero mayor es: 27\n"
     ]
    }
   ],
   "source": [
    "# 4 Calcular el máximo entre dos números\n",
    "# Descripción: Dados dos números, encuentra el máximo entre ellos.\n",
    "\n",
    "numero1 = 10\n",
    "numero2 = 27\n",
    "\n",
    "if numero1 > numero2:\n",
    "    print(\"el numero mayor es:\", numero1)\n",
    "else:\n",
    "    print(\"el numero mayor es:\", numero2)\n",
    "\n"
   ]
  },
  {
   "cell_type": "code",
   "execution_count": 12,
   "metadata": {},
   "outputs": [
    {
     "name": "stdout",
     "output_type": "stream",
     "text": [
      "Es una vocal\n"
     ]
    }
   ],
   "source": [
    "# 5 Verificar si una letra es una vocal o una consonante\n",
    "#Descripción: Dada una letra, verifica si es una vocal o una consonante.\n",
    "\n",
    "letra = \"i\"\n",
    "\n",
    "if letra in \"aeiou\":\n",
    "    print(\"Es una vocal\")\n",
    "else:\n",
    "    print(\"Es una consonante\")\n"
   ]
  },
  {
   "cell_type": "code",
   "execution_count": 29,
   "metadata": {},
   "outputs": [
    {
     "name": "stdout",
     "output_type": "stream",
     "text": [
      "el monto total es: 143.33\n"
     ]
    }
   ],
   "source": [
    "\n",
    "6 # Calcular el descuento en una compra según el monto total\n",
    "# Descripción: Dado el monto total de una compra, calcula el descuento aplicado según las siguientes condiciones: si el monto es mayor o igual a $100, aplica un descuento del 10%; de lo contrario, no aplica ningún descuento.\n",
    "\n",
    "monto_total = 150\n",
    "porcentaje = round((monto_total-(10/monto_total)*100),2)\n",
    "\n",
    "if monto_total >= 100: \n",
    "          print(\"el monto total es:\", (porcentaje))\n",
    "else:\n",
    "       print(\"el monto_total es:\", (monto_total))\n",
    "\n"
   ]
  },
  {
   "cell_type": "markdown",
   "metadata": {},
   "source": [
    "\n",
    "\n",
    "\n",
    "Calcular el descuento en una compra según el monto total\n",
    "\n",
    "Descripción: Dado el monto total de una compra, calcula el descuento aplicado según las siguientes condiciones: si el monto es mayor o igual a $100, aplica un descuento del 10%; de lo contrario, no aplica ningún descuento."
   ]
  }
 ],
 "metadata": {
  "kernelspec": {
   "display_name": "Python 3",
   "language": "python",
   "name": "python3"
  },
  "language_info": {
   "codemirror_mode": {
    "name": "ipython",
    "version": 3
   },
   "file_extension": ".py",
   "mimetype": "text/x-python",
   "name": "python",
   "nbconvert_exporter": "python",
   "pygments_lexer": "ipython3",
   "version": "3.11.9"
  }
 },
 "nbformat": 4,
 "nbformat_minor": 2
}
